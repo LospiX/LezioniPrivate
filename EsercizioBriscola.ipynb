{
  "nbformat": 4,
  "nbformat_minor": 0,
  "metadata": {
    "colab": {
      "provenance": [],
      "authorship_tag": "ABX9TyOBBGNDrJEilw9hXuruAo+Q",
      "include_colab_link": true
    },
    "kernelspec": {
      "name": "python3",
      "display_name": "Python 3"
    },
    "language_info": {
      "name": "python"
    }
  },
  "cells": [
    {
      "cell_type": "markdown",
      "metadata": {
        "id": "view-in-github",
        "colab_type": "text"
      },
      "source": [
        "<a href=\"https://colab.research.google.com/github/LospiX/LezioniPrivate/blob/main/EsercizioBriscola.ipynb\" target=\"_parent\"><img src=\"https://colab.research.google.com/assets/colab-badge.svg\" alt=\"Open In Colab\"/></a>"
      ]
    },
    {
      "cell_type": "markdown",
      "source": [
        "<img title=\"a title\" alt=\"Alt text\" src=\"https://drive.google.com/file/d/1huR-EBKEB67tbGIHdiMhTnX5PClwSCfR/view?usp=sharing\">\n"
      ],
      "metadata": {
        "id": "gr0BXhmFC9CB"
      }
    },
    {
      "cell_type": "code",
      "execution_count": null,
      "metadata": {
        "colab": {
          "base_uri": "https://localhost:8080/"
        },
        "id": "K0_X0MLl0F2y",
        "outputId": "c0e6d42b-2e35-478b-c86d-3b6720caea5d"
      },
      "outputs": [
        {
          "output_type": "stream",
          "name": "stdout",
          "text": [
            "Hello\n"
          ]
        }
      ],
      "source": [
        "print(\"Hello\")"
      ]
    },
    {
      "cell_type": "markdown",
      "source": [
        "# image \n",
        "\n",
        "<img title=\"a title\" alt=\"Alt text\" src=\"https://i.stack.imgur.com/v4JfQ.png\">\n",
        "\n"
      ],
      "metadata": {
        "id": "9ALzV3CI_e-8"
      }
    },
    {
      "cell_type": "markdown",
      "source": [
        "# Nuova sezione"
      ],
      "metadata": {
        "id": "6qIJxfpyB8-l"
      }
    },
    {
      "cell_type": "code",
      "source": [
        "+"
      ],
      "metadata": {
        "colab": {
          "base_uri": "https://localhost:8080/",
          "height": 130
        },
        "id": "ui7P6VPx0Nqf",
        "outputId": "5ad3cafe-bdaa-4fe9-857e-2d85752f2671"
      },
      "execution_count": null,
      "outputs": [
        {
          "output_type": "error",
          "ename": "SyntaxError",
          "evalue": "ignored",
          "traceback": [
            "\u001b[0;36m  File \u001b[0;32m\"<ipython-input-3-c2b2f4e98131>\"\u001b[0;36m, line \u001b[0;32m1\u001b[0m\n\u001b[0;31m    for(int i=0; i<5; i++) {\u001b[0m\n\u001b[0m            ^\u001b[0m\n\u001b[0;31mSyntaxError\u001b[0m\u001b[0;31m:\u001b[0m invalid syntax\n"
          ]
        }
      ]
    },
    {
      "cell_type": "markdown",
      "source": [
        "Prova di Google colab \n",
        "- a \n",
        "- b\n",
        "ciaot\n"
      ],
      "metadata": {
        "id": "Szk-RzTf0GuU"
      }
    }
  ]
}